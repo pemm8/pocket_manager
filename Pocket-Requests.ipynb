{
 "cells": [
  {
   "cell_type": "code",
   "execution_count": null,
   "metadata": {},
   "outputs": [],
   "source": [
    "# consumer key: \t72615-19476ccd3c099ffd425ba614\n",
    "# https://getpocket.com/v3/get"
   ]
  },
  {
   "cell_type": "code",
   "execution_count": null,
   "metadata": {},
   "outputs": [],
   "source": [
    "import json\n",
    "import requests\n",
    "import re\n",
    "\n",
    "req_tok_url = 'https://getpocket.com/v3/oauth/request'\n",
    "cons_key = '72615-19476ccd3c099ffd425ba614'"
   ]
  },
  {
   "cell_type": "code",
   "execution_count": null,
   "metadata": {},
   "outputs": [],
   "source": [
    "settings = {\n",
    "    \"Content-Type\": \"application/json; charset=UTF-8\",\n",
    "    \"X-Accept\": \"application/json\",\n",
    "    \"consumer_key\": cons_key,\n",
    "    \"redirect_uri\": \"http://www.google.com/\"\n",
    "}"
   ]
  },
  {
   "cell_type": "code",
   "execution_count": null,
   "metadata": {},
   "outputs": [],
   "source": [
    "r = requests.post(req_tok_url, settings)"
   ]
  },
  {
   "cell_type": "code",
   "execution_count": null,
   "metadata": {},
   "outputs": [],
   "source": [
    "code = str(re.split('=',r.text)[1])\n",
    "print(\"%s: %s\") % (r, code)"
   ]
  },
  {
   "cell_type": "code",
   "execution_count": null,
   "metadata": {},
   "outputs": [],
   "source": [
    "url = \"https://getpocket.com/auth/authorize?request_token=%s&redirect_uri=%s\" % (code, \"http://www.google.com/\")"
   ]
  },
  {
   "cell_type": "code",
   "execution_count": null,
   "metadata": {},
   "outputs": [],
   "source": [
    "print(url)"
   ]
  },
  {
   "cell_type": "code",
   "execution_count": null,
   "metadata": {},
   "outputs": [],
   "source": [
    "settings = {\n",
    "    \"Content-Type\": \"application/json; charset=UTF-8\",\n",
    "    \"X-Accept\": \"application/json\",\n",
    "    \"consumer_key\": cons_key,\n",
    "    \"code\": code\n",
    "}\n",
    "auth_url = 'https://getpocket.com/v3/oauth/authorize'"
   ]
  },
  {
   "cell_type": "code",
   "execution_count": null,
   "metadata": {},
   "outputs": [],
   "source": [
    "print(settings)"
   ]
  },
  {
   "cell_type": "code",
   "execution_count": null,
   "metadata": {},
   "outputs": [],
   "source": [
    "r = requests.post(auth_url, settings)"
   ]
  },
  {
   "cell_type": "code",
   "execution_count": null,
   "metadata": {},
   "outputs": [],
   "source": [
    "print(\"%s\") % (r)"
   ]
  },
  {
   "cell_type": "code",
   "execution_count": null,
   "metadata": {},
   "outputs": [],
   "source": [
    "r.text"
   ]
  },
  {
   "cell_type": "code",
   "execution_count": null,
   "metadata": {},
   "outputs": [],
   "source": [
    "get_url = 'https://getpocket.com/v3/get'\n",
    "access_tok = '9e731d11-b5b5-25b3-5487-8053de'\n",
    "settings = {\n",
    "    'Content-Type': 'application/json',\n",
    "    'consumer_key': cons_key,\n",
    "    'access_token': access_tok,\n",
    "    'detailType': 'simple'\n",
    "}"
   ]
  },
  {
   "cell_type": "code",
   "execution_count": null,
   "metadata": {},
   "outputs": [],
   "source": [
    "r = requests.post(get_url, settings)\n",
    "print(r.status_code)"
   ]
  },
  {
   "cell_type": "code",
   "execution_count": null,
   "metadata": {},
   "outputs": [],
   "source": [
    "with open('pocket-171122.json', 'w') as jsonfile:\n",
    "    json.dump(r.json(), jsonfile)"
   ]
  },
  {
   "cell_type": "code",
   "execution_count": null,
   "metadata": {},
   "outputs": [],
   "source": []
  }
 ],
 "metadata": {
  "kernelspec": {
   "display_name": "Python 2",
   "language": "python",
   "name": "python2"
  },
  "language_info": {
   "codemirror_mode": {
    "name": "ipython",
    "version": 2
   },
   "file_extension": ".py",
   "mimetype": "text/x-python",
   "name": "python",
   "nbconvert_exporter": "python",
   "pygments_lexer": "ipython2",
   "version": "2.7.10"
  }
 },
 "nbformat": 4,
 "nbformat_minor": 2
}
